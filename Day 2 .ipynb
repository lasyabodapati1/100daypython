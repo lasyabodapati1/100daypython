{
 "cells": [
  {
   "cell_type": "markdown",
   "id": "39f6e65a-8cc0-4aaa-b6c3-be41c91b9bc2",
   "metadata": {},
   "source": [
    "# DAY 2 - TIP CALCULATOR "
   ]
  },
  {
   "cell_type": "code",
   "execution_count": 1,
   "id": "243a8587-c445-4909-9da5-d60c695bb8d7",
   "metadata": {},
   "outputs": [
    {
     "name": "stdout",
     "output_type": "stream",
     "text": [
      "Welcome to the Tip Calculator App\n"
     ]
    }
   ],
   "source": [
    "print(\"Welcome to the Tip Calculator App\")"
   ]
  },
  {
   "cell_type": "code",
   "execution_count": 2,
   "id": "0785b274-9628-4b0e-9abe-8fd1139e744d",
   "metadata": {},
   "outputs": [
    {
     "name": "stdin",
     "output_type": "stream",
     "text": [
      "How much was your bill?\n",
      " $ 256\n"
     ]
    }
   ],
   "source": [
    "total_amount = int(input(f\"How much was your bill?\\n $\"))"
   ]
  },
  {
   "cell_type": "code",
   "execution_count": 3,
   "id": "e2efa129-53b0-4f00-8a4f-85ae637e7b90",
   "metadata": {},
   "outputs": [
    {
     "name": "stdin",
     "output_type": "stream",
     "text": [
      "How much tip would you like to give? 5%, 10%, 15%, 20%? \n",
      "% 10\n"
     ]
    }
   ],
   "source": [
    "tip_amount = int(input(f\"How much tip would you like to give? 5%, 10%, 15%, 20%? \\n%\"))"
   ]
  },
  {
   "cell_type": "code",
   "execution_count": 4,
   "id": "841d29c4-2e52-45f8-92f2-25ee3b6f4e50",
   "metadata": {},
   "outputs": [
    {
     "name": "stdin",
     "output_type": "stream",
     "text": [
      "how many people are you splitting this bill with? \n",
      " 3\n"
     ]
    }
   ],
   "source": [
    "people = int(input(f\"how many people are you splitting this bill with? \\n\"))"
   ]
  },
  {
   "cell_type": "code",
   "execution_count": 7,
   "id": "a97d66a3-6816-4a5d-ba0f-e88fd8403dfe",
   "metadata": {},
   "outputs": [],
   "source": [
    "each_amount = (total_amount + tip_amount/100)/people"
   ]
  },
  {
   "cell_type": "code",
   "execution_count": 8,
   "id": "ad590583-388c-4e08-aae1-a657cfbda4c3",
   "metadata": {},
   "outputs": [
    {
     "name": "stdout",
     "output_type": "stream",
     "text": [
      "Each person should pay 85.36666666666667\n"
     ]
    }
   ],
   "source": [
    "print(f\"Each person should pay {each_amount}\")"
   ]
  }
 ],
 "metadata": {
  "kernelspec": {
   "display_name": "Python 3 (ipykernel)",
   "language": "python",
   "name": "python3"
  },
  "language_info": {
   "codemirror_mode": {
    "name": "ipython",
    "version": 3
   },
   "file_extension": ".py",
   "mimetype": "text/x-python",
   "name": "python",
   "nbconvert_exporter": "python",
   "pygments_lexer": "ipython3",
   "version": "3.12.5"
  }
 },
 "nbformat": 4,
 "nbformat_minor": 5
}
