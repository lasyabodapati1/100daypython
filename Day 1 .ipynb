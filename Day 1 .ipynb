{
 "cells": [
  {
   "cell_type": "markdown",
   "id": "216b4237-de23-4325-9c5f-6bfdebf52e39",
   "metadata": {},
   "source": [
    "# DAY 1 - BAND NAME GENERATOR "
   ]
  },
  {
   "cell_type": "code",
   "execution_count": 1,
   "id": "13b16093-f466-4c5a-a52d-abca6e7dcf05",
   "metadata": {},
   "outputs": [
    {
     "name": "stdout",
     "output_type": "stream",
     "text": [
      "Welcome to the Band Name Generator\n"
     ]
    }
   ],
   "source": [
    "print(\"Welcome to the Band Name Generator\")"
   ]
  },
  {
   "cell_type": "code",
   "execution_count": 2,
   "id": "467e8bc9-66df-4ef5-8ec4-fd451e2ac24e",
   "metadata": {},
   "outputs": [
    {
     "name": "stdin",
     "output_type": "stream",
     "text": [
      "what is your pet's name? Bruno\n"
     ]
    }
   ],
   "source": [
    "username = input(\"what is your pet's name?\")"
   ]
  },
  {
   "cell_type": "code",
   "execution_count": 3,
   "id": "06c34d99-e3f0-48f5-8376-4acc9a3b021d",
   "metadata": {},
   "outputs": [
    {
     "name": "stdin",
     "output_type": "stream",
     "text": [
      "what is the name of the city you grew up in? Seattle\n"
     ]
    }
   ],
   "source": [
    "city = input(\"what is the name of the city you grew up in?\")"
   ]
  },
  {
   "cell_type": "code",
   "execution_count": 4,
   "id": "56ed3d7e-00da-4ec4-9d95-560ae617b0dc",
   "metadata": {},
   "outputs": [
    {
     "name": "stdout",
     "output_type": "stream",
     "text": [
      "The name of your band could be.... Bruno Seattle\n"
     ]
    }
   ],
   "source": [
    "print(\"The name of your band could be....\" + \" \" + username + \" \" + city)"
   ]
  }
 ],
 "metadata": {
  "kernelspec": {
   "display_name": "Python 3 (ipykernel)",
   "language": "python",
   "name": "python3"
  },
  "language_info": {
   "codemirror_mode": {
    "name": "ipython",
    "version": 3
   },
   "file_extension": ".py",
   "mimetype": "text/x-python",
   "name": "python",
   "nbconvert_exporter": "python",
   "pygments_lexer": "ipython3",
   "version": "3.12.5"
  }
 },
 "nbformat": 4,
 "nbformat_minor": 5
}
